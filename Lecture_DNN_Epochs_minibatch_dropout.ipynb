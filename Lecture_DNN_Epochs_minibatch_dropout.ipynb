{
  "nbformat": 4,
  "nbformat_minor": 0,
  "metadata": {
    "colab": {
      "provenance": []
    },
    "kernelspec": {
      "name": "python3",
      "display_name": "Python 3"
    },
    "language_info": {
      "name": "python"
    }
  },
  "cells": [
    {
      "cell_type": "code",
      "execution_count": null,
      "metadata": {
        "id": "jcr6t06o4OfO"
      },
      "outputs": [],
      "source": [
        "import pandas as pd\n",
        "import numpy as np"
      ]
    },
    {
      "cell_type": "code",
      "source": [
        "data=pd.read_csv(\"/content/test4.csv\")\n",
        "data"
      ],
      "metadata": {
        "colab": {
          "base_uri": "https://localhost:8080/",
          "height": 363
        },
        "id": "dd1KhYGB4Vl0",
        "outputId": "5aa77337-f2c2-455e-f26a-991b48285db2"
      },
      "execution_count": null,
      "outputs": [
        {
          "output_type": "execute_result",
          "data": {
            "text/plain": [
              "   x  y  z\n",
              "0  1  2  0\n",
              "1  2  1  0\n",
              "2  3  1  0\n",
              "3  1  3  0\n",
              "4  2  2  0\n",
              "5  7  7  1\n",
              "6  6  8  1\n",
              "7  8  6  1\n",
              "8  7  6  1\n",
              "9  6  7  1"
            ],
            "text/html": [
              "\n",
              "  <div id=\"df-987e1535-c351-4c6f-8a27-23e7fd0c9dc3\">\n",
              "    <div class=\"colab-df-container\">\n",
              "      <div>\n",
              "<style scoped>\n",
              "    .dataframe tbody tr th:only-of-type {\n",
              "        vertical-align: middle;\n",
              "    }\n",
              "\n",
              "    .dataframe tbody tr th {\n",
              "        vertical-align: top;\n",
              "    }\n",
              "\n",
              "    .dataframe thead th {\n",
              "        text-align: right;\n",
              "    }\n",
              "</style>\n",
              "<table border=\"1\" class=\"dataframe\">\n",
              "  <thead>\n",
              "    <tr style=\"text-align: right;\">\n",
              "      <th></th>\n",
              "      <th>x</th>\n",
              "      <th>y</th>\n",
              "      <th>z</th>\n",
              "    </tr>\n",
              "  </thead>\n",
              "  <tbody>\n",
              "    <tr>\n",
              "      <th>0</th>\n",
              "      <td>1</td>\n",
              "      <td>2</td>\n",
              "      <td>0</td>\n",
              "    </tr>\n",
              "    <tr>\n",
              "      <th>1</th>\n",
              "      <td>2</td>\n",
              "      <td>1</td>\n",
              "      <td>0</td>\n",
              "    </tr>\n",
              "    <tr>\n",
              "      <th>2</th>\n",
              "      <td>3</td>\n",
              "      <td>1</td>\n",
              "      <td>0</td>\n",
              "    </tr>\n",
              "    <tr>\n",
              "      <th>3</th>\n",
              "      <td>1</td>\n",
              "      <td>3</td>\n",
              "      <td>0</td>\n",
              "    </tr>\n",
              "    <tr>\n",
              "      <th>4</th>\n",
              "      <td>2</td>\n",
              "      <td>2</td>\n",
              "      <td>0</td>\n",
              "    </tr>\n",
              "    <tr>\n",
              "      <th>5</th>\n",
              "      <td>7</td>\n",
              "      <td>7</td>\n",
              "      <td>1</td>\n",
              "    </tr>\n",
              "    <tr>\n",
              "      <th>6</th>\n",
              "      <td>6</td>\n",
              "      <td>8</td>\n",
              "      <td>1</td>\n",
              "    </tr>\n",
              "    <tr>\n",
              "      <th>7</th>\n",
              "      <td>8</td>\n",
              "      <td>6</td>\n",
              "      <td>1</td>\n",
              "    </tr>\n",
              "    <tr>\n",
              "      <th>8</th>\n",
              "      <td>7</td>\n",
              "      <td>6</td>\n",
              "      <td>1</td>\n",
              "    </tr>\n",
              "    <tr>\n",
              "      <th>9</th>\n",
              "      <td>6</td>\n",
              "      <td>7</td>\n",
              "      <td>1</td>\n",
              "    </tr>\n",
              "  </tbody>\n",
              "</table>\n",
              "</div>\n",
              "      <button class=\"colab-df-convert\" onclick=\"convertToInteractive('df-987e1535-c351-4c6f-8a27-23e7fd0c9dc3')\"\n",
              "              title=\"Convert this dataframe to an interactive table.\"\n",
              "              style=\"display:none;\">\n",
              "        \n",
              "  <svg xmlns=\"http://www.w3.org/2000/svg\" height=\"24px\"viewBox=\"0 0 24 24\"\n",
              "       width=\"24px\">\n",
              "    <path d=\"M0 0h24v24H0V0z\" fill=\"none\"/>\n",
              "    <path d=\"M18.56 5.44l.94 2.06.94-2.06 2.06-.94-2.06-.94-.94-2.06-.94 2.06-2.06.94zm-11 1L8.5 8.5l.94-2.06 2.06-.94-2.06-.94L8.5 2.5l-.94 2.06-2.06.94zm10 10l.94 2.06.94-2.06 2.06-.94-2.06-.94-.94-2.06-.94 2.06-2.06.94z\"/><path d=\"M17.41 7.96l-1.37-1.37c-.4-.4-.92-.59-1.43-.59-.52 0-1.04.2-1.43.59L10.3 9.45l-7.72 7.72c-.78.78-.78 2.05 0 2.83L4 21.41c.39.39.9.59 1.41.59.51 0 1.02-.2 1.41-.59l7.78-7.78 2.81-2.81c.8-.78.8-2.07 0-2.86zM5.41 20L4 18.59l7.72-7.72 1.47 1.35L5.41 20z\"/>\n",
              "  </svg>\n",
              "      </button>\n",
              "      \n",
              "  <style>\n",
              "    .colab-df-container {\n",
              "      display:flex;\n",
              "      flex-wrap:wrap;\n",
              "      gap: 12px;\n",
              "    }\n",
              "\n",
              "    .colab-df-convert {\n",
              "      background-color: #E8F0FE;\n",
              "      border: none;\n",
              "      border-radius: 50%;\n",
              "      cursor: pointer;\n",
              "      display: none;\n",
              "      fill: #1967D2;\n",
              "      height: 32px;\n",
              "      padding: 0 0 0 0;\n",
              "      width: 32px;\n",
              "    }\n",
              "\n",
              "    .colab-df-convert:hover {\n",
              "      background-color: #E2EBFA;\n",
              "      box-shadow: 0px 1px 2px rgba(60, 64, 67, 0.3), 0px 1px 3px 1px rgba(60, 64, 67, 0.15);\n",
              "      fill: #174EA6;\n",
              "    }\n",
              "\n",
              "    [theme=dark] .colab-df-convert {\n",
              "      background-color: #3B4455;\n",
              "      fill: #D2E3FC;\n",
              "    }\n",
              "\n",
              "    [theme=dark] .colab-df-convert:hover {\n",
              "      background-color: #434B5C;\n",
              "      box-shadow: 0px 1px 3px 1px rgba(0, 0, 0, 0.15);\n",
              "      filter: drop-shadow(0px 1px 2px rgba(0, 0, 0, 0.3));\n",
              "      fill: #FFFFFF;\n",
              "    }\n",
              "  </style>\n",
              "\n",
              "      <script>\n",
              "        const buttonEl =\n",
              "          document.querySelector('#df-987e1535-c351-4c6f-8a27-23e7fd0c9dc3 button.colab-df-convert');\n",
              "        buttonEl.style.display =\n",
              "          google.colab.kernel.accessAllowed ? 'block' : 'none';\n",
              "\n",
              "        async function convertToInteractive(key) {\n",
              "          const element = document.querySelector('#df-987e1535-c351-4c6f-8a27-23e7fd0c9dc3');\n",
              "          const dataTable =\n",
              "            await google.colab.kernel.invokeFunction('convertToInteractive',\n",
              "                                                     [key], {});\n",
              "          if (!dataTable) return;\n",
              "\n",
              "          const docLinkHtml = 'Like what you see? Visit the ' +\n",
              "            '<a target=\"_blank\" href=https://colab.research.google.com/notebooks/data_table.ipynb>data table notebook</a>'\n",
              "            + ' to learn more about interactive tables.';\n",
              "          element.innerHTML = '';\n",
              "          dataTable['output_type'] = 'display_data';\n",
              "          await google.colab.output.renderOutput(dataTable, element);\n",
              "          const docLink = document.createElement('div');\n",
              "          docLink.innerHTML = docLinkHtml;\n",
              "          element.appendChild(docLink);\n",
              "        }\n",
              "      </script>\n",
              "    </div>\n",
              "  </div>\n",
              "  "
            ]
          },
          "metadata": {},
          "execution_count": 2
        }
      ]
    },
    {
      "cell_type": "code",
      "source": [
        "X=data[\"x\"]\n",
        "Y=data[\"y\"]\n",
        "Z=data[\"z\"]\n",
        "input=np.column_stack((X,Y))\n",
        "input"
      ],
      "metadata": {
        "colab": {
          "base_uri": "https://localhost:8080/"
        },
        "id": "ftBzMKTU4YaM",
        "outputId": "94c8c390-1c77-49ed-d1bc-d9388036ae4e"
      },
      "execution_count": null,
      "outputs": [
        {
          "output_type": "execute_result",
          "data": {
            "text/plain": [
              "array([[1, 2],\n",
              "       [2, 1],\n",
              "       [3, 1],\n",
              "       [1, 3],\n",
              "       [2, 2],\n",
              "       [7, 7],\n",
              "       [6, 8],\n",
              "       [8, 6],\n",
              "       [7, 6],\n",
              "       [6, 7]])"
            ]
          },
          "metadata": {},
          "execution_count": 3
        }
      ]
    },
    {
      "cell_type": "code",
      "source": [
        "from sklearn.model_selection import train_test_split\n",
        "train_input, test_input, train_output, test_output=train_test_split(input,Z)"
      ],
      "metadata": {
        "id": "dk97_t9B4aPU"
      },
      "execution_count": null,
      "outputs": []
    },
    {
      "cell_type": "code",
      "source": [
        "from keras.models import Sequential\n",
        "from keras.layers import Dense"
      ],
      "metadata": {
        "id": "KxQuywk24b0E"
      },
      "execution_count": null,
      "outputs": []
    },
    {
      "cell_type": "code",
      "source": [
        "Dnn=Sequential()\n",
        "Dnn.add(Dense(5,activation=\"relu\"))\n",
        "Dnn.add(Dense(100,activation=\"relu\"))\n",
        "Dnn.add(Dense(1,activation=\"sigmoid\"))#sigmoid\n",
        "Dnn.compile(loss=\"mean_squared_error\",metrics=\"accuracy\")"
      ],
      "metadata": {
        "id": "u1Jlez0A4c67"
      },
      "execution_count": null,
      "outputs": []
    },
    {
      "cell_type": "code",
      "source": [
        "Dnn.fit(train_input,train_output)"
      ],
      "metadata": {
        "colab": {
          "base_uri": "https://localhost:8080/"
        },
        "id": "OHz3w_m5X1N4",
        "outputId": "268c9bbb-bcd1-40c3-f6d9-e19b52e4a00f"
      },
      "execution_count": null,
      "outputs": [
        {
          "output_type": "stream",
          "name": "stdout",
          "text": [
            "1/1 [==============================] - 1s 996ms/step - loss: 0.2925 - accuracy: 0.4286\n"
          ]
        },
        {
          "output_type": "execute_result",
          "data": {
            "text/plain": [
              "<keras.callbacks.History at 0x7f938315af50>"
            ]
          },
          "metadata": {},
          "execution_count": 7
        }
      ]
    },
    {
      "cell_type": "code",
      "source": [
        "Dnn.evaluate(test_input,test_output)"
      ],
      "metadata": {
        "colab": {
          "base_uri": "https://localhost:8080/"
        },
        "id": "tS8fTB_lX8kf",
        "outputId": "4eb67afc-6991-45db-82aa-4a217970e84d"
      },
      "execution_count": null,
      "outputs": [
        {
          "output_type": "stream",
          "name": "stdout",
          "text": [
            "1/1 [==============================] - 0s 159ms/step - loss: 0.2569 - accuracy: 0.6667\n"
          ]
        },
        {
          "output_type": "execute_result",
          "data": {
            "text/plain": [
              "[0.2568534016609192, 0.6666666865348816]"
            ]
          },
          "metadata": {},
          "execution_count": 8
        }
      ]
    },
    {
      "cell_type": "code",
      "source": [
        "Dnn2=Sequential()\n",
        "Dnn2.add(Dense(5,activation=\"relu\"))\n",
        "Dnn2.add(Dense(100,activation=\"relu\"))\n",
        "Dnn2.add(Dense(1,activation=\"sigmoid\"))#sigmoid\n",
        "Dnn2.compile(loss=\"mean_squared_error\",metrics=\"accuracy\")"
      ],
      "metadata": {
        "id": "zNf6dhrwYpOO"
      },
      "execution_count": null,
      "outputs": []
    },
    {
      "cell_type": "code",
      "source": [
        "Dnn2.fit(train_input,train_output,epochs=50)"
      ],
      "metadata": {
        "id": "v-8czKMBYsUE",
        "colab": {
          "base_uri": "https://localhost:8080/"
        },
        "outputId": "b65cb1c7-d24d-4d4b-cc4c-41cbabea5c64"
      },
      "execution_count": null,
      "outputs": [
        {
          "output_type": "stream",
          "name": "stdout",
          "text": [
            "Epoch 1/50\n",
            "1/1 [==============================] - 0s 11ms/step - loss: 0.0554 - accuracy: 0.8571\n",
            "Epoch 2/50\n",
            "1/1 [==============================] - 0s 13ms/step - loss: 0.0546 - accuracy: 1.0000\n",
            "Epoch 3/50\n",
            "1/1 [==============================] - 0s 19ms/step - loss: 0.0540 - accuracy: 0.8571\n",
            "Epoch 4/50\n",
            "1/1 [==============================] - 0s 17ms/step - loss: 0.0532 - accuracy: 1.0000\n",
            "Epoch 5/50\n",
            "1/1 [==============================] - 0s 11ms/step - loss: 0.0527 - accuracy: 1.0000\n",
            "Epoch 6/50\n",
            "1/1 [==============================] - 0s 11ms/step - loss: 0.0519 - accuracy: 1.0000\n",
            "Epoch 7/50\n",
            "1/1 [==============================] - 0s 9ms/step - loss: 0.0514 - accuracy: 1.0000\n",
            "Epoch 8/50\n",
            "1/1 [==============================] - 0s 10ms/step - loss: 0.0506 - accuracy: 1.0000\n",
            "Epoch 9/50\n",
            "1/1 [==============================] - 0s 8ms/step - loss: 0.0502 - accuracy: 1.0000\n",
            "Epoch 10/50\n",
            "1/1 [==============================] - 0s 8ms/step - loss: 0.0494 - accuracy: 1.0000\n",
            "Epoch 11/50\n",
            "1/1 [==============================] - 0s 9ms/step - loss: 0.0489 - accuracy: 1.0000\n",
            "Epoch 12/50\n",
            "1/1 [==============================] - 0s 9ms/step - loss: 0.0482 - accuracy: 1.0000\n",
            "Epoch 13/50\n",
            "1/1 [==============================] - 0s 8ms/step - loss: 0.0477 - accuracy: 1.0000\n",
            "Epoch 14/50\n",
            "1/1 [==============================] - 0s 9ms/step - loss: 0.0470 - accuracy: 1.0000\n",
            "Epoch 15/50\n",
            "1/1 [==============================] - 0s 9ms/step - loss: 0.0465 - accuracy: 1.0000\n",
            "Epoch 16/50\n",
            "1/1 [==============================] - 0s 11ms/step - loss: 0.0459 - accuracy: 1.0000\n",
            "Epoch 17/50\n",
            "1/1 [==============================] - 0s 9ms/step - loss: 0.0454 - accuracy: 1.0000\n",
            "Epoch 18/50\n",
            "1/1 [==============================] - 0s 20ms/step - loss: 0.0447 - accuracy: 1.0000\n",
            "Epoch 19/50\n",
            "1/1 [==============================] - 0s 10ms/step - loss: 0.0442 - accuracy: 1.0000\n",
            "Epoch 20/50\n",
            "1/1 [==============================] - 0s 10ms/step - loss: 0.0435 - accuracy: 1.0000\n",
            "Epoch 21/50\n",
            "1/1 [==============================] - 0s 12ms/step - loss: 0.0430 - accuracy: 1.0000\n",
            "Epoch 22/50\n",
            "1/1 [==============================] - 0s 14ms/step - loss: 0.0424 - accuracy: 1.0000\n",
            "Epoch 23/50\n",
            "1/1 [==============================] - 0s 17ms/step - loss: 0.0419 - accuracy: 1.0000\n",
            "Epoch 24/50\n",
            "1/1 [==============================] - 0s 15ms/step - loss: 0.0413 - accuracy: 1.0000\n",
            "Epoch 25/50\n",
            "1/1 [==============================] - 0s 13ms/step - loss: 0.0408 - accuracy: 1.0000\n",
            "Epoch 26/50\n",
            "1/1 [==============================] - 0s 12ms/step - loss: 0.0402 - accuracy: 1.0000\n",
            "Epoch 27/50\n",
            "1/1 [==============================] - 0s 9ms/step - loss: 0.0398 - accuracy: 1.0000\n",
            "Epoch 28/50\n",
            "1/1 [==============================] - 0s 9ms/step - loss: 0.0392 - accuracy: 1.0000\n",
            "Epoch 29/50\n",
            "1/1 [==============================] - 0s 9ms/step - loss: 0.0387 - accuracy: 1.0000\n",
            "Epoch 30/50\n",
            "1/1 [==============================] - 0s 7ms/step - loss: 0.0381 - accuracy: 1.0000\n",
            "Epoch 31/50\n",
            "1/1 [==============================] - 0s 8ms/step - loss: 0.0376 - accuracy: 1.0000\n",
            "Epoch 32/50\n",
            "1/1 [==============================] - 0s 9ms/step - loss: 0.0370 - accuracy: 1.0000\n",
            "Epoch 33/50\n",
            "1/1 [==============================] - 0s 8ms/step - loss: 0.0366 - accuracy: 1.0000\n",
            "Epoch 34/50\n",
            "1/1 [==============================] - 0s 8ms/step - loss: 0.0360 - accuracy: 1.0000\n",
            "Epoch 35/50\n",
            "1/1 [==============================] - 0s 8ms/step - loss: 0.0355 - accuracy: 1.0000\n",
            "Epoch 36/50\n",
            "1/1 [==============================] - 0s 8ms/step - loss: 0.0349 - accuracy: 1.0000\n",
            "Epoch 37/50\n",
            "1/1 [==============================] - 0s 8ms/step - loss: 0.0345 - accuracy: 1.0000\n",
            "Epoch 38/50\n",
            "1/1 [==============================] - 0s 9ms/step - loss: 0.0340 - accuracy: 1.0000\n",
            "Epoch 39/50\n",
            "1/1 [==============================] - 0s 8ms/step - loss: 0.0336 - accuracy: 1.0000\n",
            "Epoch 40/50\n",
            "1/1 [==============================] - 0s 8ms/step - loss: 0.0330 - accuracy: 1.0000\n",
            "Epoch 41/50\n",
            "1/1 [==============================] - 0s 8ms/step - loss: 0.0326 - accuracy: 1.0000\n",
            "Epoch 42/50\n",
            "1/1 [==============================] - 0s 8ms/step - loss: 0.0321 - accuracy: 1.0000\n",
            "Epoch 43/50\n",
            "1/1 [==============================] - 0s 9ms/step - loss: 0.0316 - accuracy: 1.0000\n",
            "Epoch 44/50\n",
            "1/1 [==============================] - 0s 7ms/step - loss: 0.0311 - accuracy: 1.0000\n",
            "Epoch 45/50\n",
            "1/1 [==============================] - 0s 8ms/step - loss: 0.0307 - accuracy: 1.0000\n",
            "Epoch 46/50\n",
            "1/1 [==============================] - 0s 21ms/step - loss: 0.0302 - accuracy: 1.0000\n",
            "Epoch 47/50\n",
            "1/1 [==============================] - 0s 9ms/step - loss: 0.0297 - accuracy: 1.0000\n",
            "Epoch 48/50\n",
            "1/1 [==============================] - 0s 10ms/step - loss: 0.0293 - accuracy: 1.0000\n",
            "Epoch 49/50\n",
            "1/1 [==============================] - 0s 8ms/step - loss: 0.0289 - accuracy: 1.0000\n",
            "Epoch 50/50\n",
            "1/1 [==============================] - 0s 13ms/step - loss: 0.0283 - accuracy: 1.0000\n"
          ]
        },
        {
          "output_type": "execute_result",
          "data": {
            "text/plain": [
              "<keras.callbacks.History at 0x7f937a5a3dd0>"
            ]
          },
          "metadata": {},
          "execution_count": 30
        }
      ]
    },
    {
      "cell_type": "code",
      "source": [
        "Dnn2.evaluate(test_input,test_output)"
      ],
      "metadata": {
        "colab": {
          "base_uri": "https://localhost:8080/"
        },
        "id": "HVyUQkKLfvMj",
        "outputId": "4484809b-b414-4fe9-b47e-5c2758fd1dea"
      },
      "execution_count": null,
      "outputs": [
        {
          "output_type": "stream",
          "name": "stdout",
          "text": [
            "1/1 [==============================] - 0s 28ms/step - loss: 0.2209 - accuracy: 0.3333\n"
          ]
        },
        {
          "output_type": "execute_result",
          "data": {
            "text/plain": [
              "[0.2209279090166092, 0.3333333432674408]"
            ]
          },
          "metadata": {},
          "execution_count": 23
        }
      ]
    },
    {
      "cell_type": "code",
      "source": [
        "Dnn3=Sequential()\n",
        "Dnn3.add(Dense(5,activation=\"relu\"))\n",
        "Dnn3.add(Dense(100,activation=\"relu\"))\n",
        "Dnn3.add(Dense(1,activation=\"sigmoid\"))#sigmoid\n",
        "Dnn3.compile(loss=\"mean_squared_error\",metrics=\"accuracy\")"
      ],
      "metadata": {
        "id": "Gi39FOUbfzdb"
      },
      "execution_count": null,
      "outputs": []
    },
    {
      "cell_type": "code",
      "source": [
        "Dnn3.fit(train_input,train_output,epochs=50, batch_size=3)"
      ],
      "metadata": {
        "colab": {
          "base_uri": "https://localhost:8080/"
        },
        "id": "AJYvaTDpf9yj",
        "outputId": "c41a2d75-385c-40bf-e97b-d7a22aaa2bf0"
      },
      "execution_count": null,
      "outputs": [
        {
          "output_type": "stream",
          "name": "stdout",
          "text": [
            "Epoch 1/50\n",
            "3/3 [==============================] - 1s 5ms/step - loss: 0.1815 - accuracy: 0.5714\n",
            "Epoch 2/50\n",
            "3/3 [==============================] - 0s 6ms/step - loss: 0.1771 - accuracy: 0.5714\n",
            "Epoch 3/50\n",
            "3/3 [==============================] - 0s 5ms/step - loss: 0.1744 - accuracy: 0.5714\n",
            "Epoch 4/50\n",
            "3/3 [==============================] - 0s 5ms/step - loss: 0.1723 - accuracy: 0.5714\n",
            "Epoch 5/50\n",
            "3/3 [==============================] - 0s 4ms/step - loss: 0.1683 - accuracy: 0.5714\n",
            "Epoch 6/50\n",
            "3/3 [==============================] - 0s 5ms/step - loss: 0.1663 - accuracy: 0.5714\n",
            "Epoch 7/50\n",
            "3/3 [==============================] - 0s 7ms/step - loss: 0.1627 - accuracy: 0.5714\n",
            "Epoch 8/50\n",
            "3/3 [==============================] - 0s 6ms/step - loss: 0.1591 - accuracy: 0.5714\n",
            "Epoch 9/50\n",
            "3/3 [==============================] - 0s 6ms/step - loss: 0.1579 - accuracy: 0.5714\n",
            "Epoch 10/50\n",
            "3/3 [==============================] - 0s 7ms/step - loss: 0.1559 - accuracy: 0.5714\n",
            "Epoch 11/50\n",
            "3/3 [==============================] - 0s 6ms/step - loss: 0.1555 - accuracy: 0.5714\n",
            "Epoch 12/50\n",
            "3/3 [==============================] - 0s 5ms/step - loss: 0.1513 - accuracy: 0.5714\n",
            "Epoch 13/50\n",
            "3/3 [==============================] - 0s 6ms/step - loss: 0.1487 - accuracy: 0.5714\n",
            "Epoch 14/50\n",
            "3/3 [==============================] - 0s 5ms/step - loss: 0.1467 - accuracy: 0.5714\n",
            "Epoch 15/50\n",
            "3/3 [==============================] - 0s 6ms/step - loss: 0.1449 - accuracy: 0.5714\n",
            "Epoch 16/50\n",
            "3/3 [==============================] - 0s 7ms/step - loss: 0.1483 - accuracy: 0.5714\n",
            "Epoch 17/50\n",
            "3/3 [==============================] - 0s 5ms/step - loss: 0.1424 - accuracy: 0.5714\n",
            "Epoch 18/50\n",
            "3/3 [==============================] - 0s 6ms/step - loss: 0.1429 - accuracy: 0.5714\n",
            "Epoch 19/50\n",
            "3/3 [==============================] - 0s 5ms/step - loss: 0.1406 - accuracy: 0.5714\n",
            "Epoch 20/50\n",
            "3/3 [==============================] - 0s 5ms/step - loss: 0.1374 - accuracy: 0.8571\n",
            "Epoch 21/50\n",
            "3/3 [==============================] - 0s 6ms/step - loss: 0.1359 - accuracy: 0.8571\n",
            "Epoch 22/50\n",
            "3/3 [==============================] - 0s 5ms/step - loss: 0.1341 - accuracy: 0.7143\n",
            "Epoch 23/50\n",
            "3/3 [==============================] - 0s 5ms/step - loss: 0.1332 - accuracy: 0.8571\n",
            "Epoch 24/50\n",
            "3/3 [==============================] - 0s 5ms/step - loss: 0.1316 - accuracy: 0.8571\n",
            "Epoch 25/50\n",
            "3/3 [==============================] - 0s 7ms/step - loss: 0.1312 - accuracy: 0.8571\n",
            "Epoch 26/50\n",
            "3/3 [==============================] - 0s 5ms/step - loss: 0.1298 - accuracy: 0.8571\n",
            "Epoch 27/50\n",
            "3/3 [==============================] - 0s 10ms/step - loss: 0.1291 - accuracy: 0.8571\n",
            "Epoch 28/50\n",
            "3/3 [==============================] - 0s 5ms/step - loss: 0.1277 - accuracy: 0.8571\n",
            "Epoch 29/50\n",
            "3/3 [==============================] - 0s 5ms/step - loss: 0.1282 - accuracy: 0.8571\n",
            "Epoch 30/50\n",
            "3/3 [==============================] - 0s 5ms/step - loss: 0.1226 - accuracy: 0.8571\n",
            "Epoch 31/50\n",
            "3/3 [==============================] - 0s 6ms/step - loss: 0.1247 - accuracy: 0.8571\n",
            "Epoch 32/50\n",
            "3/3 [==============================] - 0s 6ms/step - loss: 0.1208 - accuracy: 0.8571\n",
            "Epoch 33/50\n",
            "3/3 [==============================] - 0s 6ms/step - loss: 0.1177 - accuracy: 0.8571\n",
            "Epoch 34/50\n",
            "3/3 [==============================] - 0s 6ms/step - loss: 0.1204 - accuracy: 0.8571\n",
            "Epoch 35/50\n",
            "3/3 [==============================] - 0s 6ms/step - loss: 0.1190 - accuracy: 0.8571\n",
            "Epoch 36/50\n",
            "3/3 [==============================] - 0s 5ms/step - loss: 0.1179 - accuracy: 0.8571\n",
            "Epoch 37/50\n",
            "3/3 [==============================] - 0s 6ms/step - loss: 0.1129 - accuracy: 0.8571\n",
            "Epoch 38/50\n",
            "3/3 [==============================] - 0s 7ms/step - loss: 0.1135 - accuracy: 0.8571\n",
            "Epoch 39/50\n",
            "3/3 [==============================] - 0s 6ms/step - loss: 0.1100 - accuracy: 0.8571\n",
            "Epoch 40/50\n",
            "3/3 [==============================] - 0s 7ms/step - loss: 0.1100 - accuracy: 0.8571\n",
            "Epoch 41/50\n",
            "3/3 [==============================] - 0s 6ms/step - loss: 0.1093 - accuracy: 0.8571\n",
            "Epoch 42/50\n",
            "3/3 [==============================] - 0s 6ms/step - loss: 0.1072 - accuracy: 0.8571\n",
            "Epoch 43/50\n",
            "3/3 [==============================] - 0s 5ms/step - loss: 0.1068 - accuracy: 0.8571\n",
            "Epoch 44/50\n",
            "3/3 [==============================] - 0s 6ms/step - loss: 0.1030 - accuracy: 0.8571\n",
            "Epoch 45/50\n",
            "3/3 [==============================] - 0s 6ms/step - loss: 0.1027 - accuracy: 0.8571\n",
            "Epoch 46/50\n",
            "3/3 [==============================] - 0s 7ms/step - loss: 0.1051 - accuracy: 0.8571\n",
            "Epoch 47/50\n",
            "3/3 [==============================] - 0s 7ms/step - loss: 0.0998 - accuracy: 0.8571\n",
            "Epoch 48/50\n",
            "3/3 [==============================] - 0s 8ms/step - loss: 0.0989 - accuracy: 0.8571\n",
            "Epoch 49/50\n",
            "3/3 [==============================] - 0s 5ms/step - loss: 0.0988 - accuracy: 0.8571\n",
            "Epoch 50/50\n",
            "3/3 [==============================] - 0s 6ms/step - loss: 0.0987 - accuracy: 0.8571\n"
          ]
        },
        {
          "output_type": "execute_result",
          "data": {
            "text/plain": [
              "<keras.callbacks.History at 0x7f937dbd41d0>"
            ]
          },
          "metadata": {},
          "execution_count": 25
        }
      ]
    },
    {
      "cell_type": "code",
      "source": [
        "Dnn.evaluate(test_input,test_output)"
      ],
      "metadata": {
        "colab": {
          "base_uri": "https://localhost:8080/"
        },
        "id": "UqsiGpE3gGdC",
        "outputId": "322e35d1-47c2-4424-f743-c17a8365650b"
      },
      "execution_count": null,
      "outputs": [
        {
          "output_type": "stream",
          "name": "stdout",
          "text": [
            "1/1 [==============================] - 0s 26ms/step - loss: 0.2569 - accuracy: 0.6667\n"
          ]
        },
        {
          "output_type": "execute_result",
          "data": {
            "text/plain": [
              "[0.2568534016609192, 0.6666666865348816]"
            ]
          },
          "metadata": {},
          "execution_count": 26
        }
      ]
    },
    {
      "cell_type": "code",
      "source": [
        "from keras.layers import Dropout\n",
        "\n",
        "Dnn4=Sequential()\n",
        "\n",
        "Dnn4.add(Dense(5,activation=\"relu\"))\n",
        "\n",
        "Dnn4.add(Dense(100,activation=\"relu\"))\n",
        "Dnn4.add(Dropout(0.1)) #10%\n",
        "Dnn4.add(Dense(1,activation=\"sigmoid\"))#sigmoid\n",
        "Dnn4.compile(loss=\"mean_squared_error\",metrics=\"accuracy\")"
      ],
      "metadata": {
        "id": "Or3fBgRYgKMi"
      },
      "execution_count": null,
      "outputs": []
    },
    {
      "cell_type": "code",
      "source": [
        "Dnn4.fit(train_input,train_output,epochs=50, batch_size=3)"
      ],
      "metadata": {
        "colab": {
          "base_uri": "https://localhost:8080/"
        },
        "id": "fQY5ybDagd_q",
        "outputId": "22eeb60a-227b-4ddf-cdab-eae6a5265508"
      },
      "execution_count": null,
      "outputs": [
        {
          "output_type": "stream",
          "name": "stdout",
          "text": [
            "Epoch 1/50\n",
            "3/3 [==============================] - 1s 6ms/step - loss: 0.3542 - accuracy: 0.4286\n",
            "Epoch 2/50\n",
            "3/3 [==============================] - 0s 6ms/step - loss: 0.2627 - accuracy: 0.5714\n",
            "Epoch 3/50\n",
            "3/3 [==============================] - 0s 6ms/step - loss: 0.2196 - accuracy: 0.7143\n",
            "Epoch 4/50\n",
            "3/3 [==============================] - 0s 6ms/step - loss: 0.2205 - accuracy: 0.5714\n",
            "Epoch 5/50\n",
            "3/3 [==============================] - 0s 8ms/step - loss: 0.2038 - accuracy: 0.5714\n",
            "Epoch 6/50\n",
            "3/3 [==============================] - 0s 5ms/step - loss: 0.1600 - accuracy: 0.7143\n",
            "Epoch 7/50\n",
            "3/3 [==============================] - 0s 5ms/step - loss: 0.1762 - accuracy: 0.7143\n",
            "Epoch 8/50\n",
            "3/3 [==============================] - 0s 6ms/step - loss: 0.1622 - accuracy: 0.8571\n",
            "Epoch 9/50\n",
            "3/3 [==============================] - 0s 6ms/step - loss: 0.1868 - accuracy: 0.7143\n",
            "Epoch 10/50\n",
            "3/3 [==============================] - 0s 5ms/step - loss: 0.1523 - accuracy: 0.7143\n",
            "Epoch 11/50\n",
            "3/3 [==============================] - 0s 5ms/step - loss: 0.1468 - accuracy: 0.7143\n",
            "Epoch 12/50\n",
            "3/3 [==============================] - 0s 5ms/step - loss: 0.1606 - accuracy: 0.5714\n",
            "Epoch 13/50\n",
            "3/3 [==============================] - 0s 5ms/step - loss: 0.1580 - accuracy: 0.5714\n",
            "Epoch 14/50\n",
            "3/3 [==============================] - 0s 13ms/step - loss: 0.1432 - accuracy: 0.7143\n",
            "Epoch 15/50\n",
            "3/3 [==============================] - 0s 6ms/step - loss: 0.1434 - accuracy: 0.7143\n",
            "Epoch 16/50\n",
            "3/3 [==============================] - 0s 6ms/step - loss: 0.1418 - accuracy: 0.7143\n",
            "Epoch 17/50\n",
            "3/3 [==============================] - 0s 7ms/step - loss: 0.1406 - accuracy: 0.8571\n",
            "Epoch 18/50\n",
            "3/3 [==============================] - 0s 5ms/step - loss: 0.1338 - accuracy: 0.8571\n",
            "Epoch 19/50\n",
            "3/3 [==============================] - 0s 6ms/step - loss: 0.1426 - accuracy: 0.8571\n",
            "Epoch 20/50\n",
            "3/3 [==============================] - 0s 5ms/step - loss: 0.1503 - accuracy: 0.8571\n",
            "Epoch 21/50\n",
            "3/3 [==============================] - 0s 5ms/step - loss: 0.1435 - accuracy: 0.8571\n",
            "Epoch 22/50\n",
            "3/3 [==============================] - 0s 6ms/step - loss: 0.1356 - accuracy: 0.8571\n",
            "Epoch 23/50\n",
            "3/3 [==============================] - 0s 5ms/step - loss: 0.1264 - accuracy: 0.8571\n",
            "Epoch 24/50\n",
            "3/3 [==============================] - 0s 7ms/step - loss: 0.1343 - accuracy: 0.8571\n",
            "Epoch 25/50\n",
            "3/3 [==============================] - 0s 6ms/step - loss: 0.1265 - accuracy: 0.8571\n",
            "Epoch 26/50\n",
            "3/3 [==============================] - 0s 5ms/step - loss: 0.1363 - accuracy: 0.8571\n",
            "Epoch 27/50\n",
            "3/3 [==============================] - 0s 6ms/step - loss: 0.1173 - accuracy: 0.8571\n",
            "Epoch 28/50\n",
            "3/3 [==============================] - 0s 6ms/step - loss: 0.1293 - accuracy: 0.8571\n",
            "Epoch 29/50\n",
            "3/3 [==============================] - 0s 5ms/step - loss: 0.1319 - accuracy: 0.7143\n",
            "Epoch 30/50\n",
            "3/3 [==============================] - 0s 5ms/step - loss: 0.1171 - accuracy: 0.8571\n",
            "Epoch 31/50\n",
            "3/3 [==============================] - 0s 6ms/step - loss: 0.1226 - accuracy: 0.8571\n",
            "Epoch 32/50\n",
            "3/3 [==============================] - 0s 7ms/step - loss: 0.1175 - accuracy: 0.8571\n",
            "Epoch 33/50\n",
            "3/3 [==============================] - 0s 5ms/step - loss: 0.1125 - accuracy: 0.8571\n",
            "Epoch 34/50\n",
            "3/3 [==============================] - 0s 5ms/step - loss: 0.1088 - accuracy: 0.8571\n",
            "Epoch 35/50\n",
            "3/3 [==============================] - 0s 5ms/step - loss: 0.1115 - accuracy: 0.8571\n",
            "Epoch 36/50\n",
            "3/3 [==============================] - 0s 5ms/step - loss: 0.1079 - accuracy: 0.8571\n",
            "Epoch 37/50\n",
            "3/3 [==============================] - 0s 6ms/step - loss: 0.1162 - accuracy: 0.8571\n",
            "Epoch 38/50\n",
            "3/3 [==============================] - 0s 5ms/step - loss: 0.1058 - accuracy: 0.8571\n",
            "Epoch 39/50\n",
            "3/3 [==============================] - 0s 5ms/step - loss: 0.1117 - accuracy: 0.8571\n",
            "Epoch 40/50\n",
            "3/3 [==============================] - 0s 6ms/step - loss: 0.1072 - accuracy: 0.8571\n",
            "Epoch 41/50\n",
            "3/3 [==============================] - 0s 6ms/step - loss: 0.1038 - accuracy: 0.8571\n",
            "Epoch 42/50\n",
            "3/3 [==============================] - 0s 5ms/step - loss: 0.1045 - accuracy: 0.8571\n",
            "Epoch 43/50\n",
            "3/3 [==============================] - 0s 5ms/step - loss: 0.0921 - accuracy: 0.8571\n",
            "Epoch 44/50\n",
            "3/3 [==============================] - 0s 5ms/step - loss: 0.1124 - accuracy: 0.8571\n",
            "Epoch 45/50\n",
            "3/3 [==============================] - 0s 6ms/step - loss: 0.0982 - accuracy: 0.8571\n",
            "Epoch 46/50\n",
            "3/3 [==============================] - 0s 5ms/step - loss: 0.0922 - accuracy: 0.8571\n",
            "Epoch 47/50\n",
            "3/3 [==============================] - 0s 5ms/step - loss: 0.1184 - accuracy: 0.8571\n",
            "Epoch 48/50\n",
            "3/3 [==============================] - 0s 5ms/step - loss: 0.0994 - accuracy: 0.8571\n",
            "Epoch 49/50\n",
            "3/3 [==============================] - 0s 6ms/step - loss: 0.0890 - accuracy: 0.8571\n",
            "Epoch 50/50\n",
            "3/3 [==============================] - 0s 5ms/step - loss: 0.0975 - accuracy: 0.8571\n"
          ]
        },
        {
          "output_type": "execute_result",
          "data": {
            "text/plain": [
              "<keras.callbacks.History at 0x7f9379f09790>"
            ]
          },
          "metadata": {},
          "execution_count": 28
        }
      ]
    },
    {
      "cell_type": "code",
      "source": [
        "Dnn4.evaluate(test_input,test_output)"
      ],
      "metadata": {
        "colab": {
          "base_uri": "https://localhost:8080/"
        },
        "id": "7c_GXyL-gnDy",
        "outputId": "c09f837e-a465-459c-9aa4-1de5f175fe9b"
      },
      "execution_count": null,
      "outputs": [
        {
          "output_type": "stream",
          "name": "stdout",
          "text": [
            "WARNING:tensorflow:5 out of the last 10 calls to <function Model.make_test_function.<locals>.test_function at 0x7f937a6ef5f0> triggered tf.function retracing. Tracing is expensive and the excessive number of tracings could be due to (1) creating @tf.function repeatedly in a loop, (2) passing tensors with different shapes, (3) passing Python objects instead of tensors. For (1), please define your @tf.function outside of the loop. For (2), @tf.function has experimental_relax_shapes=True option that relaxes argument shapes that can avoid unnecessary retracing. For (3), please refer to https://www.tensorflow.org/guide/function#controlling_retracing and https://www.tensorflow.org/api_docs/python/tf/function for  more details.\n",
            "1/1 [==============================] - 0s 135ms/step - loss: 0.2564 - accuracy: 0.3333\n"
          ]
        },
        {
          "output_type": "execute_result",
          "data": {
            "text/plain": [
              "[0.2563965618610382, 0.3333333432674408]"
            ]
          },
          "metadata": {},
          "execution_count": 29
        }
      ]
    },
    {
      "cell_type": "code",
      "source": [],
      "metadata": {
        "id": "pV1v4xT8gr9y"
      },
      "execution_count": null,
      "outputs": []
    }
  ]
}