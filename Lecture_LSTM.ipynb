{
  "nbformat": 4,
  "nbformat_minor": 0,
  "metadata": {
    "colab": {
      "provenance": []
    },
    "kernelspec": {
      "name": "python3",
      "display_name": "Python 3"
    },
    "language_info": {
      "name": "python"
    }
  },
  "cells": [
    {
      "cell_type": "code",
      "execution_count": null,
      "metadata": {
        "colab": {
          "base_uri": "https://localhost:8080/"
        },
        "id": "39B_BPMj5b7C",
        "outputId": "9d1365df-beb7-456a-a01f-3d7694310ef5"
      },
      "outputs": [
        {
          "output_type": "stream",
          "name": "stdout",
          "text": [
            "Requirement already satisfied: pandas_datareader in /usr/local/lib/python3.7/dist-packages (0.9.0)\n",
            "Requirement already satisfied: pandas>=0.23 in /usr/local/lib/python3.7/dist-packages (from pandas_datareader) (1.3.5)\n",
            "Requirement already satisfied: lxml in /usr/local/lib/python3.7/dist-packages (from pandas_datareader) (4.8.0)\n",
            "Requirement already satisfied: requests>=2.19.0 in /usr/local/lib/python3.7/dist-packages (from pandas_datareader) (2.27.1)\n",
            "Requirement already satisfied: pytz>=2017.3 in /usr/local/lib/python3.7/dist-packages (from pandas>=0.23->pandas_datareader) (2022.1)\n",
            "Requirement already satisfied: numpy>=1.17.3 in /usr/local/lib/python3.7/dist-packages (from pandas>=0.23->pandas_datareader) (1.21.6)\n",
            "Requirement already satisfied: python-dateutil>=2.7.3 in /usr/local/lib/python3.7/dist-packages (from pandas>=0.23->pandas_datareader) (2.8.2)\n",
            "Requirement already satisfied: six>=1.5 in /usr/local/lib/python3.7/dist-packages (from python-dateutil>=2.7.3->pandas>=0.23->pandas_datareader) (1.15.0)\n",
            "Requirement already satisfied: idna<4,>=2.5 in /usr/local/lib/python3.7/dist-packages (from requests>=2.19.0->pandas_datareader) (2.10)\n",
            "Requirement already satisfied: certifi>=2017.4.17 in /usr/local/lib/python3.7/dist-packages (from requests>=2.19.0->pandas_datareader) (2021.10.8)\n",
            "Requirement already satisfied: charset-normalizer~=2.0.0 in /usr/local/lib/python3.7/dist-packages (from requests>=2.19.0->pandas_datareader) (2.0.12)\n",
            "Requirement already satisfied: urllib3<1.27,>=1.21.1 in /usr/local/lib/python3.7/dist-packages (from requests>=2.19.0->pandas_datareader) (1.24.3)\n",
            "Requirement already satisfied: yfinance in /usr/local/lib/python3.7/dist-packages (0.1.70)\n",
            "Requirement already satisfied: requests>=2.26 in /usr/local/lib/python3.7/dist-packages (from yfinance) (2.27.1)\n",
            "Requirement already satisfied: lxml>=4.5.1 in /usr/local/lib/python3.7/dist-packages (from yfinance) (4.8.0)\n",
            "Requirement already satisfied: multitasking>=0.0.7 in /usr/local/lib/python3.7/dist-packages (from yfinance) (0.0.10)\n",
            "Requirement already satisfied: numpy>=1.15 in /usr/local/lib/python3.7/dist-packages (from yfinance) (1.21.6)\n",
            "Requirement already satisfied: pandas>=0.24.0 in /usr/local/lib/python3.7/dist-packages (from yfinance) (1.3.5)\n",
            "Requirement already satisfied: python-dateutil>=2.7.3 in /usr/local/lib/python3.7/dist-packages (from pandas>=0.24.0->yfinance) (2.8.2)\n",
            "Requirement already satisfied: pytz>=2017.3 in /usr/local/lib/python3.7/dist-packages (from pandas>=0.24.0->yfinance) (2022.1)\n",
            "Requirement already satisfied: six>=1.5 in /usr/local/lib/python3.7/dist-packages (from python-dateutil>=2.7.3->pandas>=0.24.0->yfinance) (1.15.0)\n",
            "Requirement already satisfied: charset-normalizer~=2.0.0 in /usr/local/lib/python3.7/dist-packages (from requests>=2.26->yfinance) (2.0.12)\n",
            "Requirement already satisfied: urllib3<1.27,>=1.21.1 in /usr/local/lib/python3.7/dist-packages (from requests>=2.26->yfinance) (1.24.3)\n",
            "Requirement already satisfied: certifi>=2017.4.17 in /usr/local/lib/python3.7/dist-packages (from requests>=2.26->yfinance) (2021.10.8)\n",
            "Requirement already satisfied: idna<4,>=2.5 in /usr/local/lib/python3.7/dist-packages (from requests>=2.26->yfinance) (2.10)\n"
          ]
        }
      ],
      "source": [
        "!pip install pandas_datareader\n",
        "!pip install yfinance"
      ]
    },
    {
      "cell_type": "code",
      "source": [
        "import numpy as np\n",
        "import pandas as pd\n",
        "import matplotlib.pyplot as plt"
      ],
      "metadata": {
        "id": "zu4ONVzC5deN"
      },
      "execution_count": null,
      "outputs": []
    },
    {
      "cell_type": "code",
      "source": [
        "import yfinance as yf\n",
        "from pandas_datareader import data as pdr\n",
        "yf.pdr_override()"
      ],
      "metadata": {
        "id": "9POdrgBg5mtm"
      },
      "execution_count": null,
      "outputs": []
    },
    {
      "cell_type": "code",
      "source": [
        "data=pdr.get_data_yahoo(\"ATVI\", start=\"2021-01-01\", end=\"2022-01-01\")\n",
        "data.head()"
      ],
      "metadata": {
        "colab": {
          "base_uri": "https://localhost:8080/",
          "height": 255
        },
        "id": "JdvO1Imr5ndU",
        "outputId": "85e4a072-b462-4f59-bfb6-3095254c2a82"
      },
      "execution_count": null,
      "outputs": [
        {
          "output_type": "stream",
          "name": "stdout",
          "text": [
            "\r[*********************100%***********************]  1 of 1 completed\n"
          ]
        },
        {
          "output_type": "execute_result",
          "data": {
            "text/plain": [
              "                 Open       High        Low      Close  Adj Close   Volume\n",
              "Date                                                                      \n",
              "2021-01-04  92.699997  92.910004  89.220001  89.900002  88.938156  7423100\n",
              "2021-01-05  90.320000  90.750000  89.099998  90.690002  89.719704  4544100\n",
              "2021-01-06  89.059998  89.900002  87.889999  88.000000  87.058479  7422100\n",
              "2021-01-07  88.860001  90.750000  88.269997  89.669998  88.710609  6142200\n",
              "2021-01-08  90.070000  91.370003  89.529999  91.300003  90.323181  4408800"
            ],
            "text/html": [
              "\n",
              "  <div id=\"df-ecc2046d-9fe1-47d1-82dc-f53b5a573fa9\">\n",
              "    <div class=\"colab-df-container\">\n",
              "      <div>\n",
              "<style scoped>\n",
              "    .dataframe tbody tr th:only-of-type {\n",
              "        vertical-align: middle;\n",
              "    }\n",
              "\n",
              "    .dataframe tbody tr th {\n",
              "        vertical-align: top;\n",
              "    }\n",
              "\n",
              "    .dataframe thead th {\n",
              "        text-align: right;\n",
              "    }\n",
              "</style>\n",
              "<table border=\"1\" class=\"dataframe\">\n",
              "  <thead>\n",
              "    <tr style=\"text-align: right;\">\n",
              "      <th></th>\n",
              "      <th>Open</th>\n",
              "      <th>High</th>\n",
              "      <th>Low</th>\n",
              "      <th>Close</th>\n",
              "      <th>Adj Close</th>\n",
              "      <th>Volume</th>\n",
              "    </tr>\n",
              "    <tr>\n",
              "      <th>Date</th>\n",
              "      <th></th>\n",
              "      <th></th>\n",
              "      <th></th>\n",
              "      <th></th>\n",
              "      <th></th>\n",
              "      <th></th>\n",
              "    </tr>\n",
              "  </thead>\n",
              "  <tbody>\n",
              "    <tr>\n",
              "      <th>2021-01-04</th>\n",
              "      <td>92.699997</td>\n",
              "      <td>92.910004</td>\n",
              "      <td>89.220001</td>\n",
              "      <td>89.900002</td>\n",
              "      <td>88.938156</td>\n",
              "      <td>7423100</td>\n",
              "    </tr>\n",
              "    <tr>\n",
              "      <th>2021-01-05</th>\n",
              "      <td>90.320000</td>\n",
              "      <td>90.750000</td>\n",
              "      <td>89.099998</td>\n",
              "      <td>90.690002</td>\n",
              "      <td>89.719704</td>\n",
              "      <td>4544100</td>\n",
              "    </tr>\n",
              "    <tr>\n",
              "      <th>2021-01-06</th>\n",
              "      <td>89.059998</td>\n",
              "      <td>89.900002</td>\n",
              "      <td>87.889999</td>\n",
              "      <td>88.000000</td>\n",
              "      <td>87.058479</td>\n",
              "      <td>7422100</td>\n",
              "    </tr>\n",
              "    <tr>\n",
              "      <th>2021-01-07</th>\n",
              "      <td>88.860001</td>\n",
              "      <td>90.750000</td>\n",
              "      <td>88.269997</td>\n",
              "      <td>89.669998</td>\n",
              "      <td>88.710609</td>\n",
              "      <td>6142200</td>\n",
              "    </tr>\n",
              "    <tr>\n",
              "      <th>2021-01-08</th>\n",
              "      <td>90.070000</td>\n",
              "      <td>91.370003</td>\n",
              "      <td>89.529999</td>\n",
              "      <td>91.300003</td>\n",
              "      <td>90.323181</td>\n",
              "      <td>4408800</td>\n",
              "    </tr>\n",
              "  </tbody>\n",
              "</table>\n",
              "</div>\n",
              "      <button class=\"colab-df-convert\" onclick=\"convertToInteractive('df-ecc2046d-9fe1-47d1-82dc-f53b5a573fa9')\"\n",
              "              title=\"Convert this dataframe to an interactive table.\"\n",
              "              style=\"display:none;\">\n",
              "        \n",
              "  <svg xmlns=\"http://www.w3.org/2000/svg\" height=\"24px\"viewBox=\"0 0 24 24\"\n",
              "       width=\"24px\">\n",
              "    <path d=\"M0 0h24v24H0V0z\" fill=\"none\"/>\n",
              "    <path d=\"M18.56 5.44l.94 2.06.94-2.06 2.06-.94-2.06-.94-.94-2.06-.94 2.06-2.06.94zm-11 1L8.5 8.5l.94-2.06 2.06-.94-2.06-.94L8.5 2.5l-.94 2.06-2.06.94zm10 10l.94 2.06.94-2.06 2.06-.94-2.06-.94-.94-2.06-.94 2.06-2.06.94z\"/><path d=\"M17.41 7.96l-1.37-1.37c-.4-.4-.92-.59-1.43-.59-.52 0-1.04.2-1.43.59L10.3 9.45l-7.72 7.72c-.78.78-.78 2.05 0 2.83L4 21.41c.39.39.9.59 1.41.59.51 0 1.02-.2 1.41-.59l7.78-7.78 2.81-2.81c.8-.78.8-2.07 0-2.86zM5.41 20L4 18.59l7.72-7.72 1.47 1.35L5.41 20z\"/>\n",
              "  </svg>\n",
              "      </button>\n",
              "      \n",
              "  <style>\n",
              "    .colab-df-container {\n",
              "      display:flex;\n",
              "      flex-wrap:wrap;\n",
              "      gap: 12px;\n",
              "    }\n",
              "\n",
              "    .colab-df-convert {\n",
              "      background-color: #E8F0FE;\n",
              "      border: none;\n",
              "      border-radius: 50%;\n",
              "      cursor: pointer;\n",
              "      display: none;\n",
              "      fill: #1967D2;\n",
              "      height: 32px;\n",
              "      padding: 0 0 0 0;\n",
              "      width: 32px;\n",
              "    }\n",
              "\n",
              "    .colab-df-convert:hover {\n",
              "      background-color: #E2EBFA;\n",
              "      box-shadow: 0px 1px 2px rgba(60, 64, 67, 0.3), 0px 1px 3px 1px rgba(60, 64, 67, 0.15);\n",
              "      fill: #174EA6;\n",
              "    }\n",
              "\n",
              "    [theme=dark] .colab-df-convert {\n",
              "      background-color: #3B4455;\n",
              "      fill: #D2E3FC;\n",
              "    }\n",
              "\n",
              "    [theme=dark] .colab-df-convert:hover {\n",
              "      background-color: #434B5C;\n",
              "      box-shadow: 0px 1px 3px 1px rgba(0, 0, 0, 0.15);\n",
              "      filter: drop-shadow(0px 1px 2px rgba(0, 0, 0, 0.3));\n",
              "      fill: #FFFFFF;\n",
              "    }\n",
              "  </style>\n",
              "\n",
              "      <script>\n",
              "        const buttonEl =\n",
              "          document.querySelector('#df-ecc2046d-9fe1-47d1-82dc-f53b5a573fa9 button.colab-df-convert');\n",
              "        buttonEl.style.display =\n",
              "          google.colab.kernel.accessAllowed ? 'block' : 'none';\n",
              "\n",
              "        async function convertToInteractive(key) {\n",
              "          const element = document.querySelector('#df-ecc2046d-9fe1-47d1-82dc-f53b5a573fa9');\n",
              "          const dataTable =\n",
              "            await google.colab.kernel.invokeFunction('convertToInteractive',\n",
              "                                                     [key], {});\n",
              "          if (!dataTable) return;\n",
              "\n",
              "          const docLinkHtml = 'Like what you see? Visit the ' +\n",
              "            '<a target=\"_blank\" href=https://colab.research.google.com/notebooks/data_table.ipynb>data table notebook</a>'\n",
              "            + ' to learn more about interactive tables.';\n",
              "          element.innerHTML = '';\n",
              "          dataTable['output_type'] = 'display_data';\n",
              "          await google.colab.output.renderOutput(dataTable, element);\n",
              "          const docLink = document.createElement('div');\n",
              "          docLink.innerHTML = docLinkHtml;\n",
              "          element.appendChild(docLink);\n",
              "        }\n",
              "      </script>\n",
              "    </div>\n",
              "  </div>\n",
              "  "
            ]
          },
          "metadata": {},
          "execution_count": 5
        }
      ]
    },
    {
      "cell_type": "code",
      "source": [
        "Op=np.array(data[\"Open\"])\n",
        "Hi=np.array(data[\"High\"])\n",
        "Lo=np.array(data[\"Low\"])\n",
        "Cl=np.array(data[\"Close\"])\n",
        "Adj=np.array(data[\"Adj Close\"])\n",
        "V=np.array(data[\"Volume\"])"
      ],
      "metadata": {
        "id": "YpGrpcag5oRs"
      },
      "execution_count": null,
      "outputs": []
    },
    {
      "cell_type": "code",
      "source": [
        "input=np.column_stack((Op,Hi,Lo,Cl,V))\n",
        "output=Adj"
      ],
      "metadata": {
        "id": "D-gRBk_k5pLE"
      },
      "execution_count": null,
      "outputs": []
    },
    {
      "cell_type": "code",
      "source": [
        "from sklearn.preprocessing import StandardScaler\n",
        "SS=StandardScaler()\n",
        "input_scaled=SS.fit_transform(input)"
      ],
      "metadata": {
        "id": "v2vZGWDo5sjs"
      },
      "execution_count": null,
      "outputs": []
    },
    {
      "cell_type": "code",
      "source": [
        "from sklearn.model_selection import train_test_split\n",
        "train_input,test_input,train_output,test_output=train_test_split(input_scaled,output)"
      ],
      "metadata": {
        "id": "mO0IWQbL5tcc"
      },
      "execution_count": null,
      "outputs": []
    },
    {
      "cell_type": "code",
      "source": [
        "from keras.models import Sequential\n",
        "from keras.layers import Dense, LSTM"
      ],
      "metadata": {
        "id": "zLE_qMx35u50"
      },
      "execution_count": null,
      "outputs": []
    },
    {
      "cell_type": "code",
      "source": [
        "Ls=Sequential()\n",
        "Ls.add(LSTM(200, input_shape=(5,1)))\n",
        "Ls.add(Dense(150,activation=\"relu\"))\n",
        "Ls.add(Dense(1))\n",
        "Ls.compile(loss=\"mse\",metrics='mae', optimizer='adam')"
      ],
      "metadata": {
        "id": "OYrY2ldq57_L"
      },
      "execution_count": null,
      "outputs": []
    },
    {
      "cell_type": "code",
      "source": [
        "Ls.fit(train_input,train_output,epochs=100)"
      ],
      "metadata": {
        "colab": {
          "base_uri": "https://localhost:8080/"
        },
        "id": "l7CVFMuH5-NT",
        "outputId": "efa58160-bd69-4c71-8dd2-344828b0370b"
      },
      "execution_count": null,
      "outputs": [
        {
          "output_type": "stream",
          "name": "stdout",
          "text": [
            "Epoch 1/100\n",
            "6/6 [==============================] - 3s 18ms/step - loss: 7215.7314 - mae: 84.1382\n",
            "Epoch 2/100\n",
            "6/6 [==============================] - 0s 17ms/step - loss: 7157.5918 - mae: 83.7750\n",
            "Epoch 3/100\n",
            "6/6 [==============================] - 0s 17ms/step - loss: 7014.1025 - mae: 82.8669\n",
            "Epoch 4/100\n",
            "6/6 [==============================] - 0s 15ms/step - loss: 6641.9922 - mae: 80.4779\n",
            "Epoch 5/100\n",
            "6/6 [==============================] - 0s 16ms/step - loss: 5881.3149 - mae: 75.5326\n",
            "Epoch 6/100\n",
            "6/6 [==============================] - 0s 16ms/step - loss: 4747.9404 - mae: 67.5181\n",
            "Epoch 7/100\n",
            "6/6 [==============================] - 0s 17ms/step - loss: 3490.1074 - mae: 57.5025\n",
            "Epoch 8/100\n",
            "6/6 [==============================] - 0s 16ms/step - loss: 2290.5681 - mae: 46.0265\n",
            "Epoch 9/100\n",
            "6/6 [==============================] - 0s 15ms/step - loss: 1310.0326 - mae: 33.8547\n",
            "Epoch 10/100\n",
            "6/6 [==============================] - 0s 17ms/step - loss: 611.8922 - mae: 22.0942\n",
            "Epoch 11/100\n",
            "6/6 [==============================] - 0s 16ms/step - loss: 256.1977 - mae: 13.3971\n",
            "Epoch 12/100\n",
            "6/6 [==============================] - 0s 17ms/step - loss: 113.9614 - mae: 7.2984\n",
            "Epoch 13/100\n",
            "6/6 [==============================] - 0s 18ms/step - loss: 105.5590 - mae: 6.7899\n",
            "Epoch 14/100\n",
            "6/6 [==============================] - 0s 18ms/step - loss: 95.9632 - mae: 7.5932\n",
            "Epoch 15/100\n",
            "6/6 [==============================] - 0s 17ms/step - loss: 82.6762 - mae: 7.2684\n",
            "Epoch 16/100\n",
            "6/6 [==============================] - 0s 16ms/step - loss: 64.3537 - mae: 6.2992\n",
            "Epoch 17/100\n",
            "6/6 [==============================] - 0s 17ms/step - loss: 62.2903 - mae: 5.5160\n",
            "Epoch 18/100\n",
            "6/6 [==============================] - 0s 18ms/step - loss: 53.3892 - mae: 5.1521\n",
            "Epoch 19/100\n",
            "6/6 [==============================] - 0s 18ms/step - loss: 53.4621 - mae: 5.1094\n",
            "Epoch 20/100\n",
            "6/6 [==============================] - 0s 17ms/step - loss: 52.9263 - mae: 5.0740\n",
            "Epoch 21/100\n",
            "6/6 [==============================] - 0s 15ms/step - loss: 47.4080 - mae: 4.9225\n",
            "Epoch 22/100\n",
            "6/6 [==============================] - 0s 17ms/step - loss: 45.7146 - mae: 4.8403\n",
            "Epoch 23/100\n",
            "6/6 [==============================] - 0s 15ms/step - loss: 44.9141 - mae: 4.8184\n",
            "Epoch 24/100\n",
            "6/6 [==============================] - 0s 16ms/step - loss: 44.1421 - mae: 4.8716\n",
            "Epoch 25/100\n",
            "6/6 [==============================] - 0s 17ms/step - loss: 42.8173 - mae: 4.8180\n",
            "Epoch 26/100\n",
            "6/6 [==============================] - 0s 15ms/step - loss: 42.0832 - mae: 4.7374\n",
            "Epoch 27/100\n",
            "6/6 [==============================] - 0s 15ms/step - loss: 41.5828 - mae: 4.7446\n",
            "Epoch 28/100\n",
            "6/6 [==============================] - 0s 16ms/step - loss: 40.6858 - mae: 4.7515\n",
            "Epoch 29/100\n",
            "6/6 [==============================] - 0s 18ms/step - loss: 40.0503 - mae: 4.6764\n",
            "Epoch 30/100\n",
            "6/6 [==============================] - 0s 17ms/step - loss: 39.4254 - mae: 4.6304\n",
            "Epoch 31/100\n",
            "6/6 [==============================] - 0s 16ms/step - loss: 38.6627 - mae: 4.6071\n",
            "Epoch 32/100\n",
            "6/6 [==============================] - 0s 16ms/step - loss: 38.2001 - mae: 4.6325\n",
            "Epoch 33/100\n",
            "6/6 [==============================] - 0s 16ms/step - loss: 37.5575 - mae: 4.5865\n",
            "Epoch 34/100\n",
            "6/6 [==============================] - 0s 15ms/step - loss: 36.8626 - mae: 4.5097\n",
            "Epoch 35/100\n",
            "6/6 [==============================] - 0s 16ms/step - loss: 36.1379 - mae: 4.4786\n",
            "Epoch 36/100\n",
            "6/6 [==============================] - 0s 15ms/step - loss: 35.4372 - mae: 4.4884\n",
            "Epoch 37/100\n",
            "6/6 [==============================] - 0s 15ms/step - loss: 35.2814 - mae: 4.4047\n",
            "Epoch 38/100\n",
            "6/6 [==============================] - 0s 17ms/step - loss: 34.3943 - mae: 4.4145\n",
            "Epoch 39/100\n",
            "6/6 [==============================] - 0s 17ms/step - loss: 33.1524 - mae: 4.4165\n",
            "Epoch 40/100\n",
            "6/6 [==============================] - 0s 15ms/step - loss: 32.1622 - mae: 4.3052\n",
            "Epoch 41/100\n",
            "6/6 [==============================] - 0s 16ms/step - loss: 31.4377 - mae: 4.1502\n",
            "Epoch 42/100\n",
            "6/6 [==============================] - 0s 15ms/step - loss: 30.7204 - mae: 4.1991\n",
            "Epoch 43/100\n",
            "6/6 [==============================] - 0s 15ms/step - loss: 29.5788 - mae: 4.1531\n",
            "Epoch 44/100\n",
            "6/6 [==============================] - 0s 16ms/step - loss: 28.7181 - mae: 4.0211\n",
            "Epoch 45/100\n",
            "6/6 [==============================] - 0s 15ms/step - loss: 27.5451 - mae: 3.9943\n",
            "Epoch 46/100\n",
            "6/6 [==============================] - 0s 15ms/step - loss: 26.2515 - mae: 3.9232\n",
            "Epoch 47/100\n",
            "6/6 [==============================] - 0s 18ms/step - loss: 25.3034 - mae: 3.8054\n",
            "Epoch 48/100\n",
            "6/6 [==============================] - 0s 16ms/step - loss: 23.8710 - mae: 3.7486\n",
            "Epoch 49/100\n",
            "6/6 [==============================] - 0s 18ms/step - loss: 23.3062 - mae: 3.8054\n",
            "Epoch 50/100\n",
            "6/6 [==============================] - 0s 15ms/step - loss: 23.3188 - mae: 3.5334\n",
            "Epoch 51/100\n",
            "6/6 [==============================] - 0s 15ms/step - loss: 20.6886 - mae: 3.4235\n",
            "Epoch 52/100\n",
            "6/6 [==============================] - 0s 16ms/step - loss: 19.3490 - mae: 3.4963\n",
            "Epoch 53/100\n",
            "6/6 [==============================] - 0s 15ms/step - loss: 17.3930 - mae: 3.1408\n",
            "Epoch 54/100\n",
            "6/6 [==============================] - 0s 15ms/step - loss: 16.1333 - mae: 3.0238\n",
            "Epoch 55/100\n",
            "6/6 [==============================] - 0s 16ms/step - loss: 14.9095 - mae: 3.0113\n",
            "Epoch 56/100\n",
            "6/6 [==============================] - 0s 15ms/step - loss: 13.8550 - mae: 2.8249\n",
            "Epoch 57/100\n",
            "6/6 [==============================] - 0s 16ms/step - loss: 12.6630 - mae: 2.7043\n",
            "Epoch 58/100\n",
            "6/6 [==============================] - 0s 17ms/step - loss: 11.9148 - mae: 2.7044\n",
            "Epoch 59/100\n",
            "6/6 [==============================] - 0s 18ms/step - loss: 11.0976 - mae: 2.4974\n",
            "Epoch 60/100\n",
            "6/6 [==============================] - 0s 16ms/step - loss: 10.2369 - mae: 2.3824\n",
            "Epoch 61/100\n",
            "6/6 [==============================] - 0s 15ms/step - loss: 9.7192 - mae: 2.4103\n",
            "Epoch 62/100\n",
            "6/6 [==============================] - 0s 15ms/step - loss: 9.0772 - mae: 2.2505\n",
            "Epoch 63/100\n",
            "6/6 [==============================] - 0s 16ms/step - loss: 8.5351 - mae: 2.1773\n",
            "Epoch 64/100\n",
            "6/6 [==============================] - 0s 16ms/step - loss: 8.3414 - mae: 2.2384\n",
            "Epoch 65/100\n",
            "6/6 [==============================] - 0s 16ms/step - loss: 7.9313 - mae: 2.0995\n",
            "Epoch 66/100\n",
            "6/6 [==============================] - 0s 16ms/step - loss: 7.6005 - mae: 2.0640\n",
            "Epoch 67/100\n",
            "6/6 [==============================] - 0s 16ms/step - loss: 7.5051 - mae: 2.1332\n",
            "Epoch 68/100\n",
            "6/6 [==============================] - 0s 16ms/step - loss: 7.3824 - mae: 2.0472\n",
            "Epoch 69/100\n",
            "6/6 [==============================] - 0s 18ms/step - loss: 7.0490 - mae: 2.0318\n",
            "Epoch 70/100\n",
            "6/6 [==============================] - 0s 16ms/step - loss: 7.1577 - mae: 2.0662\n",
            "Epoch 71/100\n",
            "6/6 [==============================] - 0s 16ms/step - loss: 6.8409 - mae: 1.9943\n",
            "Epoch 72/100\n",
            "6/6 [==============================] - 0s 15ms/step - loss: 6.7806 - mae: 1.9979\n",
            "Epoch 73/100\n",
            "6/6 [==============================] - 0s 16ms/step - loss: 6.6477 - mae: 2.0049\n",
            "Epoch 74/100\n",
            "6/6 [==============================] - 0s 16ms/step - loss: 6.5278 - mae: 1.9598\n",
            "Epoch 75/100\n",
            "6/6 [==============================] - 0s 16ms/step - loss: 6.4289 - mae: 1.9348\n",
            "Epoch 76/100\n",
            "6/6 [==============================] - 0s 15ms/step - loss: 6.4604 - mae: 1.9731\n",
            "Epoch 77/100\n",
            "6/6 [==============================] - 0s 16ms/step - loss: 6.3070 - mae: 1.9346\n",
            "Epoch 78/100\n",
            "6/6 [==============================] - 0s 17ms/step - loss: 6.1920 - mae: 1.9186\n",
            "Epoch 79/100\n",
            "6/6 [==============================] - 0s 15ms/step - loss: 6.1018 - mae: 1.9113\n",
            "Epoch 80/100\n",
            "6/6 [==============================] - 0s 15ms/step - loss: 6.0859 - mae: 1.9012\n",
            "Epoch 81/100\n",
            "6/6 [==============================] - 0s 16ms/step - loss: 6.0570 - mae: 1.8945\n",
            "Epoch 82/100\n",
            "6/6 [==============================] - 0s 16ms/step - loss: 5.8878 - mae: 1.8735\n",
            "Epoch 83/100\n",
            "6/6 [==============================] - 0s 15ms/step - loss: 5.9045 - mae: 1.8689\n",
            "Epoch 84/100\n",
            "6/6 [==============================] - 0s 17ms/step - loss: 5.7516 - mae: 1.8622\n",
            "Epoch 85/100\n",
            "6/6 [==============================] - 0s 15ms/step - loss: 5.8247 - mae: 1.8391\n",
            "Epoch 86/100\n",
            "6/6 [==============================] - 0s 15ms/step - loss: 5.7863 - mae: 1.8994\n",
            "Epoch 87/100\n",
            "6/6 [==============================] - 0s 15ms/step - loss: 5.6756 - mae: 1.8170\n",
            "Epoch 88/100\n",
            "6/6 [==============================] - 0s 17ms/step - loss: 5.6758 - mae: 1.8619\n",
            "Epoch 89/100\n",
            "6/6 [==============================] - 0s 18ms/step - loss: 5.6916 - mae: 1.8296\n",
            "Epoch 90/100\n",
            "6/6 [==============================] - 0s 15ms/step - loss: 5.7220 - mae: 1.8849\n",
            "Epoch 91/100\n",
            "6/6 [==============================] - 0s 15ms/step - loss: 5.6727 - mae: 1.7999\n",
            "Epoch 92/100\n",
            "6/6 [==============================] - 0s 16ms/step - loss: 5.3982 - mae: 1.8132\n",
            "Epoch 93/100\n",
            "6/6 [==============================] - 0s 17ms/step - loss: 5.3741 - mae: 1.7819\n",
            "Epoch 94/100\n",
            "6/6 [==============================] - 0s 16ms/step - loss: 5.1968 - mae: 1.7776\n",
            "Epoch 95/100\n",
            "6/6 [==============================] - 0s 15ms/step - loss: 5.1996 - mae: 1.7339\n",
            "Epoch 96/100\n",
            "6/6 [==============================] - 0s 17ms/step - loss: 5.2135 - mae: 1.7739\n",
            "Epoch 97/100\n",
            "6/6 [==============================] - 0s 16ms/step - loss: 5.2331 - mae: 1.7566\n",
            "Epoch 98/100\n",
            "6/6 [==============================] - 0s 18ms/step - loss: 5.0395 - mae: 1.7300\n",
            "Epoch 99/100\n",
            "6/6 [==============================] - 0s 16ms/step - loss: 4.9323 - mae: 1.6945\n",
            "Epoch 100/100\n",
            "6/6 [==============================] - 0s 18ms/step - loss: 4.9326 - mae: 1.6942\n"
          ]
        },
        {
          "output_type": "execute_result",
          "data": {
            "text/plain": [
              "<keras.callbacks.History at 0x7f30add89a50>"
            ]
          },
          "metadata": {},
          "execution_count": 13
        }
      ]
    },
    {
      "cell_type": "code",
      "source": [
        "plt.plot(Ls.predict(test_input),'b')\n",
        "plt.plot(test_output,'g--')"
      ],
      "metadata": {
        "id": "ZpkrInKC6BUj",
        "colab": {
          "base_uri": "https://localhost:8080/",
          "height": 283
        },
        "outputId": "dd692a4d-6883-408c-f3d2-94bcbf57592b"
      },
      "execution_count": null,
      "outputs": [
        {
          "output_type": "execute_result",
          "data": {
            "text/plain": [
              "[<matplotlib.lines.Line2D at 0x7f30adcb1450>]"
            ]
          },
          "metadata": {},
          "execution_count": 14
        },
        {
          "output_type": "display_data",
          "data": {
            "text/plain": [
              "<Figure size 432x288 with 1 Axes>"
            ],
            "image/png": "[encoded data removed]"
          },
          "metadata": {
            "needs_background": "light"
          }
        }
      ]
    },
    {
      "cell_type": "code",
      "source": [
        "np.corrcoef(Ls.predict(test_input).T,np.array(test_output))"
      ],
      "metadata": {
        "colab": {
          "base_uri": "https://localhost:8080/"
        },
        "id": "EdV7sxi58v99",
        "outputId": "990a7036-221e-4b77-da36-c95ac3ad2c1f"
      },
      "execution_count": null,
      "outputs": [
        {
          "output_type": "execute_result",
          "data": {
            "text/plain": [
              "array([[1.        , 0.98018116],\n",
              "       [0.98018116, 1.        ]])"
            ]
          },
          "metadata": {},
          "execution_count": 15
        }
      ]
    },
    {
      "cell_type": "code",
      "source": [],
      "metadata": {
        "id": "_9Q_gKDIM5_L"
      },
      "execution_count": null,
      "outputs": []
    }
  ]
}